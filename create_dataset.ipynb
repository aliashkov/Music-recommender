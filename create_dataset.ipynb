{
 "cells": [
  {
   "cell_type": "code",
   "execution_count": 5,
   "metadata": {},
   "outputs": [],
   "source": [
    "import pandas as pd"
   ]
  },
  {
   "cell_type": "code",
   "execution_count": 15,
   "metadata": {},
   "outputs": [
    {
     "name": "stdout",
     "output_type": "stream",
     "text": [
      "  track_id         title     artist      genre         subgenre       mood  \\\n",
      "0  track_1  Song Title 1  Artist 39  Classical    Latin - Type3  Uplifting   \n",
      "1  track_2  Song Title 2  Artist 29       Folk  Country - Type3  Uplifting   \n",
      "2  track_3  Song Title 3  Artist 15        R&B      Pop - Type3    Anxious   \n",
      "3  track_4  Song Title 4  Artist 43        Pop    Latin - Type1     Dreamy   \n",
      "4  track_5  Song Title 5   Artist 8       Jazz   Reggae - Type3  Energetic   \n",
      "\n",
      "     occasion decade  tempo_bpm  popularity  ...  loudness       energy  \\\n",
      "0        Work  1990s         79          37  ...  0.168884  4013.891325   \n",
      "1  Relaxation  2020s        118          32  ...  0.192003  7100.879864   \n",
      "2        Work  1950s         95           9  ...  0.071021  3634.311293   \n",
      "3       Party  1950s         78          99  ...  0.155205  4534.060968   \n",
      "4       Party  1970s        149          19  ...  0.083809   874.091879   \n",
      "\n",
      "    brightness   valence  speechiness  acousticness  instrumentalness  \\\n",
      "0  1850.962778  0.180467     0.380349      0.635928          0.241605   \n",
      "1  3256.624911  0.225848     0.313371      0.355929          0.237611   \n",
      "2  1550.497662  0.149098     0.411039      0.670357          0.263611   \n",
      "3  2253.654485  0.199550     0.416919      0.588747          0.232102   \n",
      "4   539.667683  0.130464     0.738747      0.920717          0.254713   \n",
      "\n",
      "   zero_crossing_rate  spectral_bandwidth  harmonic_mean  \n",
      "0            0.069941         2238.420806  -7.037243e-05  \n",
      "1            0.110216         3077.379198   4.993784e-06  \n",
      "2            0.052231         1955.711978  -2.891770e-05  \n",
      "3            0.102206         2370.797856  -1.558893e-07  \n",
      "4            0.034117          751.851187  -3.735352e-09  \n",
      "\n",
      "[5 rows x 22 columns]\n"
     ]
    }
   ],
   "source": [
    "file_path = 'output/tracks.csv'\n",
    "music_data = pd.read_csv(file_path)\n",
    "\n",
    "print(music_data.head(5))"
   ]
  }
 ],
 "metadata": {
  "kernelspec": {
   "display_name": "myenv",
   "language": "python",
   "name": "python3"
  },
  "language_info": {
   "codemirror_mode": {
    "name": "ipython",
    "version": 3
   },
   "file_extension": ".py",
   "mimetype": "text/x-python",
   "name": "python",
   "nbconvert_exporter": "python",
   "pygments_lexer": "ipython3",
   "version": "3.10.9"
  }
 },
 "nbformat": 4,
 "nbformat_minor": 2
}
